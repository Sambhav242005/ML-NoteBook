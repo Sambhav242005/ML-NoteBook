{
 "cells": [
  {
   "cell_type": "code",
   "execution_count": 54,
   "metadata": {},
   "outputs": [],
   "source": [
    "import numpy as np\n",
    "import matplotlib.pyplot as plt\n",
    "import pandas as pd"
   ]
  },
  {
   "cell_type": "code",
   "execution_count": 55,
   "metadata": {},
   "outputs": [
    {
     "name": "stdout",
     "output_type": "stream",
     "text": [
      "c:\\Users\\sambh\\Desktop\\ML-NoteBook\n"
     ]
    }
   ],
   "source": [
    "import os\n",
    "\n",
    "# get the current working directory\n",
    "current_working_directory = os.getcwd()\n",
    "\n",
    "# print output to the console\n",
    "print(current_working_directory)"
   ]
  },
  {
   "cell_type": "code",
   "execution_count": 56,
   "metadata": {},
   "outputs": [
    {
     "name": "stdout",
     "output_type": "stream",
     "text": [
      "   PassengerId  Survived  Pclass  \\\n",
      "0            1         0       3   \n",
      "1            2         1       1   \n",
      "2            3         1       3   \n",
      "3            4         1       1   \n",
      "4            5         0       3   \n",
      "\n",
      "                                                Name     Sex   Age  SibSp  \\\n",
      "0                            Braund, Mr. Owen Harris    male  22.0      1   \n",
      "1  Cumings, Mrs. John Bradley (Florence Briggs Th...  female  38.0      1   \n",
      "2                             Heikkinen, Miss. Laina  female  26.0      0   \n",
      "3       Futrelle, Mrs. Jacques Heath (Lily May Peel)  female  35.0      1   \n",
      "4                           Allen, Mr. William Henry    male  35.0      0   \n",
      "\n",
      "   Parch            Ticket     Fare Cabin Embarked  \n",
      "0      0         A/5 21171   7.2500   NaN        S  \n",
      "1      0          PC 17599  71.2833   C85        C  \n",
      "2      0  STON/O2. 3101282   7.9250   NaN        S  \n",
      "3      0            113803  53.1000  C123        S  \n",
      "4      0            373450   8.0500   NaN        S  \n"
     ]
    }
   ],
   "source": [
    "df = pd.read_csv(current_working_directory+\"\\\\Dataset\\\\Titanic-Dataset\\\\Titanic-Dataset.csv\")\n",
    "print(df.head())"
   ]
  },
  {
   "cell_type": "code",
   "execution_count": 57,
   "metadata": {},
   "outputs": [
    {
     "name": "stdout",
     "output_type": "stream",
     "text": [
      "PassengerId      0\n",
      "Survived         0\n",
      "Pclass           0\n",
      "Name             0\n",
      "Sex              0\n",
      "Age            177\n",
      "SibSp            0\n",
      "Parch            0\n",
      "Ticket           0\n",
      "Fare             0\n",
      "Cabin          687\n",
      "Embarked         2\n",
      "dtype: int64\n"
     ]
    }
   ],
   "source": [
    "print(df.isnull().sum())"
   ]
  },
  {
   "cell_type": "code",
   "execution_count": 58,
   "metadata": {},
   "outputs": [
    {
     "name": "stdout",
     "output_type": "stream",
     "text": [
      "PassengerId      int64\n",
      "Survived         int64\n",
      "Pclass           int64\n",
      "Name            object\n",
      "Sex             object\n",
      "Age            float64\n",
      "SibSp            int64\n",
      "Parch            int64\n",
      "Ticket          object\n",
      "Fare           float64\n",
      "Cabin           object\n",
      "Embarked        object\n",
      "dtype: object\n",
      "Index(['PassengerId', 'Survived', 'Pclass', 'Name', 'Sex', 'Age', 'SibSp',\n",
      "       'Parch', 'Ticket', 'Fare', 'Cabin', 'Embarked'],\n",
      "      dtype='object')\n"
     ]
    }
   ],
   "source": [
    "print(df.dtypes)\n",
    "print(df.columns)  # Check all column names\n"
   ]
  },
  {
   "cell_type": "code",
   "execution_count": 59,
   "metadata": {},
   "outputs": [],
   "source": [
    "# Select relevant features (Ensure no missing values)\n",
    "df = df[['Pclass', 'Age', 'Fare', 'Sex', 'SibSp', 'Parch', 'Survived']].dropna()\n",
    "\n",
    "# Convert categorical 'Sex' to numeric\n",
    "df['Sex'] = df['Sex'].map({'male': 0, 'female': 1})\n",
    "\n",
    "# Convert DataFrame to NumPy array\n",
    "data = df.values"
   ]
  },
  {
   "cell_type": "code",
   "execution_count": 60,
   "metadata": {},
   "outputs": [
    {
     "data": {
      "text/plain": [
       "(array([[ 0.91123237, -0.53037664, -0.51897787, -0.75905134,  0.52457013,\n",
       "         -0.50589515],\n",
       "        [-1.47636364,  0.57183099,  0.69189675,  1.31743394,  0.52457013,\n",
       "         -0.50589515],\n",
       "        [ 0.91123237, -0.25482473, -0.50621356,  1.31743394, -0.55170307,\n",
       "         -0.50589515],\n",
       "        ...,\n",
       "        [-1.47636364, -0.73704057, -0.08877362,  1.31743394, -0.55170307,\n",
       "         -0.50589515],\n",
       "        [-1.47636364, -0.25482473, -0.08877362, -0.75905134, -0.55170307,\n",
       "         -0.50589515],\n",
       "        [ 0.91123237,  0.15850313, -0.50952283, -0.75905134, -0.55170307,\n",
       "         -0.50589515]]),\n",
       " array([0., 1., 1., 1., 0., 0., 0., 1., 1., 1., 1., 0., 0., 0., 1., 0., 0.,\n",
       "        0., 1., 1., 1., 0., 1., 0., 0., 0., 0., 0., 0., 0., 1., 0., 0., 1.,\n",
       "        1., 0., 0., 0., 1., 1., 0., 1., 0., 1., 0., 0., 1., 0., 0., 1., 0.,\n",
       "        1., 0., 0., 0., 0., 0., 1., 0., 1., 1., 0., 1., 0., 1., 1., 0., 1.,\n",
       "        0., 0., 0., 0., 0., 0., 0., 1., 1., 0., 0., 0., 0., 0., 0., 1., 0.,\n",
       "        0., 0., 0., 0., 0., 0., 0., 0., 0., 0., 0., 0., 1., 0., 1., 1., 0.,\n",
       "        0., 0., 0., 1., 0., 0., 1., 0., 0., 0., 1., 1., 0., 0., 0., 1., 0.,\n",
       "        0., 0., 0., 1., 0., 0., 0., 1., 0., 0., 1., 0., 0., 0., 1., 0., 0.,\n",
       "        0., 0., 1., 0., 0., 0., 0., 0., 0., 0., 1., 1., 1., 0., 0., 1., 0.,\n",
       "        1., 1., 1., 1., 0., 0., 0., 0., 0., 1., 0., 0., 1., 1., 1., 0., 1.,\n",
       "        0., 0., 1., 1., 0., 1., 0., 1., 0., 0., 1., 0., 1., 0., 0., 1., 0.,\n",
       "        0., 1., 0., 0., 1., 0., 0., 0., 0., 0., 0., 0., 1., 1., 0., 0., 0.,\n",
       "        0., 0., 1., 1., 1., 1., 1., 0., 0., 0., 0., 1., 1., 1., 1., 1., 0.,\n",
       "        1., 0., 0., 1., 0., 0., 0., 1., 0., 1., 0., 1., 1., 1., 1., 0., 0.,\n",
       "        0., 0., 0., 1., 0., 1., 1., 0., 1., 1., 1., 0., 0., 0., 1., 1., 0.,\n",
       "        1., 1., 0., 0., 1., 1., 1., 0., 1., 1., 1., 0., 0., 0., 0., 1., 1.,\n",
       "        0., 1., 1., 0., 0., 0., 1., 1., 1., 0., 0., 0., 0., 0., 1., 0., 0.,\n",
       "        0., 0., 0., 0., 1., 1., 1., 0., 0., 0., 0., 1., 0., 0., 0., 1., 1.,\n",
       "        0., 1., 0., 0., 1., 1., 1., 1., 0., 1., 1., 0., 0., 0., 0., 1., 1.,\n",
       "        0., 0., 0., 0., 0., 0., 1., 0., 1., 1., 1., 1., 0., 0., 0., 0., 0.,\n",
       "        0., 1., 1., 1., 1., 1., 0., 0., 1., 0., 1., 0., 0., 1., 0., 0., 1.,\n",
       "        1., 1., 1., 1., 1., 0., 0., 1., 1., 0., 1., 1., 0., 0., 0., 0., 0.,\n",
       "        1., 0., 1., 1., 0., 0., 0., 0., 1., 0., 0., 1., 1., 1., 0., 0., 1.,\n",
       "        0., 0., 0., 0., 1., 0., 0., 0., 0., 0., 1., 0., 1., 0., 1., 1., 1.,\n",
       "        1., 0., 0., 1., 1., 0., 1., 0., 1., 0., 1., 0., 0., 1., 0., 0., 1.,\n",
       "        0., 1., 1., 1., 0., 0., 1., 0., 0., 1., 0., 1., 1., 0., 1., 1., 0.,\n",
       "        1., 1., 1., 0., 0., 0., 0., 0., 1., 1., 1., 1., 0., 0., 1., 1., 1.,\n",
       "        1., 1., 0., 0., 1., 0., 1., 0., 0., 1., 0., 0., 0., 0., 1., 1., 0.,\n",
       "        1., 0., 0., 1., 1., 1., 0., 0., 1., 0., 0., 1., 0., 0., 1., 1., 0.,\n",
       "        0., 0., 0., 1., 0., 1., 0., 1., 0., 1., 0., 0., 0., 0., 1., 0., 1.,\n",
       "        1., 0., 1., 1., 1., 0., 0., 0., 0., 0., 0., 1., 0., 0., 0., 1., 0.,\n",
       "        0., 0., 1., 0., 0., 1., 0., 0., 1., 0., 1., 1., 0., 0., 0., 0., 0.,\n",
       "        0., 0., 1., 1., 1., 0., 0., 0., 0., 0., 0., 1., 1., 0., 0., 0., 0.,\n",
       "        1., 1., 1., 1., 1., 0., 0., 0., 1., 1., 0., 1., 0., 0., 0., 1., 0.,\n",
       "        1., 0., 0., 1., 0., 0., 0., 0., 0., 1., 0., 1., 0., 1., 0., 0., 1.,\n",
       "        0., 0., 1., 1., 0., 0., 1., 1., 0., 0., 0., 1., 0., 1., 1., 0., 1.,\n",
       "        0., 0., 0., 0., 0., 1., 0., 1., 1., 1., 1., 0., 0., 0., 1., 0., 1.,\n",
       "        0., 0., 0., 0., 1., 1., 0., 0., 0., 1., 1., 1., 1., 0., 0., 0., 0.,\n",
       "        1., 0., 0., 0., 0., 0., 0., 0., 0., 0., 1., 1., 0., 1., 0., 1., 1.,\n",
       "        1., 1., 0., 0., 1., 0., 1., 0., 0., 1., 0., 0., 0., 0., 0., 0., 0.,\n",
       "        0., 1., 0., 1., 1., 1., 1., 0., 0., 1., 0., 1., 1., 0., 1., 0., 1.,\n",
       "        0., 0., 1., 1., 0., 0., 1., 1., 0., 0., 0., 0., 0., 0., 1., 1., 0.]))"
      ]
     },
     "execution_count": 60,
     "metadata": {},
     "output_type": "execute_result"
    }
   ],
   "source": [
    "# Split into states (features) and actions (labels)\n",
    "states = data[:, :-1]  # All columns except the last (features)\n",
    "actions = data[:, -1]  # Last column (Survived: 0 or 1)\n",
    "\n",
    "# Normalize features for stable training\n",
    "states = (states - states.mean(axis=0)) / states.std(axis=0)\n",
    "states,actions"
   ]
  },
  {
   "cell_type": "code",
   "execution_count": 61,
   "metadata": {},
   "outputs": [],
   "source": [
    "# Number of states and actions\n",
    "num_states = states.shape[1]  # Feature count\n",
    "num_actions = 2  # Survived (1) or Not Survived (0)\n",
    "\n",
    "# Initialize Q-table with zeros\n",
    "Q_table = np.zeros((num_states, num_actions))\n",
    "\n",
    "# Hyperparameters\n",
    "learning_rate = 0.5  # Increase for faster learning\n",
    "discount_factor = 0.9\n",
    "epsilon_decay = 0.99  # Decay faster to shift to exploitation\n",
    "reward_correct = 10  # Increase reward for correct predictions\n",
    "reward_wrong = -10\n",
    "min_epsilon = 0.01\n",
    "episodes = 5000\n"
   ]
  },
  {
   "cell_type": "code",
   "execution_count": 62,
   "metadata": {},
   "outputs": [
    {
     "name": "stdout",
     "output_type": "stream",
     "text": [
      "Episode 0, Loss: 25.000000, Epsilon: 0.0100\n",
      "Episode 100, Loss: 26.112144, Epsilon: 0.0100\n",
      "Episode 200, Loss: 8.211102, Epsilon: 0.0100\n",
      "Episode 300, Loss: 27.402334, Epsilon: 0.0100\n",
      "Episode 400, Loss: 17.239489, Epsilon: 0.0100\n",
      "Episode 500, Loss: 25.957274, Epsilon: 0.0100\n",
      "Episode 600, Loss: 13.452102, Epsilon: 0.0100\n",
      "Episode 700, Loss: 32.155528, Epsilon: 0.0100\n",
      "Episode 800, Loss: 37.013930, Epsilon: 0.0100\n",
      "Episode 900, Loss: 12.900839, Epsilon: 0.0100\n",
      "Episode 1000, Loss: 30.533174, Epsilon: 0.0100\n",
      "Episode 1100, Loss: 41.584873, Epsilon: 0.0100\n",
      "Episode 1200, Loss: 25.319328, Epsilon: 0.0100\n",
      "Episode 1300, Loss: 34.024795, Epsilon: 0.0100\n",
      "Episode 1400, Loss: 39.116330, Epsilon: 0.0100\n",
      "Episode 1500, Loss: 28.079831, Epsilon: 0.0100\n",
      "Episode 1600, Loss: 42.264762, Epsilon: 0.0100\n",
      "Episode 1700, Loss: 18.427988, Epsilon: 0.0100\n",
      "Episode 1800, Loss: 18.618853, Epsilon: 0.0100\n",
      "Episode 1900, Loss: 14.283641, Epsilon: 0.0100\n",
      "Episode 2000, Loss: 36.307890, Epsilon: 0.0100\n",
      "Episode 2100, Loss: 18.850974, Epsilon: 0.0100\n",
      "Episode 2200, Loss: 30.107642, Epsilon: 0.0100\n",
      "Episode 2300, Loss: 15.414059, Epsilon: 0.0100\n",
      "Episode 2400, Loss: 27.651737, Epsilon: 0.0100\n",
      "Episode 2500, Loss: 39.981111, Epsilon: 0.0100\n",
      "Episode 2600, Loss: 29.461031, Epsilon: 0.0100\n",
      "Episode 2700, Loss: 17.965223, Epsilon: 0.0100\n",
      "Episode 2800, Loss: 37.252825, Epsilon: 0.0100\n",
      "Episode 2900, Loss: 46.709706, Epsilon: 0.0100\n",
      "Episode 3000, Loss: 17.883493, Epsilon: 0.0100\n",
      "Episode 3100, Loss: 33.710242, Epsilon: 0.0100\n",
      "Episode 3200, Loss: 25.698432, Epsilon: 0.0100\n",
      "Episode 3300, Loss: 31.429949, Epsilon: 0.0100\n",
      "Episode 3400, Loss: 13.387420, Epsilon: 0.0100\n",
      "Episode 3500, Loss: 29.526949, Epsilon: 0.0100\n",
      "Episode 3600, Loss: 12.606715, Epsilon: 0.0100\n",
      "Episode 3700, Loss: 20.950741, Epsilon: 0.0100\n",
      "Episode 3800, Loss: 25.379558, Epsilon: 0.0100\n",
      "Episode 3900, Loss: 11.181223, Epsilon: 0.0100\n",
      "Episode 4000, Loss: 24.385329, Epsilon: 0.0100\n",
      "Episode 4100, Loss: 30.776101, Epsilon: 0.0100\n",
      "Episode 4200, Loss: 33.145102, Epsilon: 0.0100\n",
      "Episode 4300, Loss: 34.569416, Epsilon: 0.0100\n",
      "Episode 4400, Loss: 18.628977, Epsilon: 0.0100\n",
      "Episode 4500, Loss: 38.341355, Epsilon: 0.0100\n",
      "Episode 4600, Loss: 26.615507, Epsilon: 0.0100\n",
      "Episode 4700, Loss: 13.921320, Epsilon: 0.0100\n",
      "Episode 4800, Loss: 11.000838, Epsilon: 0.0100\n",
      "Episode 4900, Loss: 20.146344, Epsilon: 0.0100\n"
     ]
    },
    {
     "data": {
      "image/png": "[encoded data removed]",
      "text/plain": [
       "<Figure size 640x480 with 1 Axes>"
      ]
     },
     "metadata": {},
     "output_type": "display_data"
    }
   ],
   "source": [
    "# Loss tracking\n",
    "losses = []\n",
    "\n",
    "# Training loop\n",
    "for episode in range(episodes):\n",
    "    idx = np.random.randint(len(states))  \n",
    "    state = states[idx]\n",
    "    actual_action = int(actions[idx])\n",
    "\n",
    "    if np.random.rand() < epsilon:\n",
    "        action = np.random.choice([0, 1])  \n",
    "    else:\n",
    "        action = np.argmax(Q_table.sum(axis=0))  \n",
    "\n",
    "    reward = reward_correct if action == actual_action else reward_wrong  \n",
    "\n",
    "    old_q_value = Q_table[:, action].copy()\n",
    "\n",
    "    Q_table[:, action] += learning_rate * (reward + discount_factor * np.max(Q_table[:, :]) - Q_table[:, action])\n",
    "\n",
    "    loss = np.mean((Q_table[:, action] - old_q_value) ** 2)\n",
    "    losses.append(loss)\n",
    "\n",
    "    epsilon = max(min_epsilon, epsilon * epsilon_decay)\n",
    "\n",
    "    if episode % 100 == 0:\n",
    "        print(f\"Episode {episode}, Loss: {loss:.6f}, Epsilon: {epsilon:.4f}\")\n",
    "\n",
    "# Apply Moving Average to Smooth Loss\n",
    "window = 50  # Adjust for smoothing effect\n",
    "smooth_losses = np.convolve(losses, np.ones(window)/window, mode='valid')\n",
    "\n",
    "plt.plot(smooth_losses)\n",
    "plt.xlabel(\"Episode\")\n",
    "plt.ylabel(\"Smoothed Loss\")\n",
    "plt.title(\"Q-Learning Training Loss (Smoothed)\")\n",
    "plt.show()"
   ]
  },
  {
   "cell_type": "code",
   "execution_count": 63,
   "metadata": {},
   "outputs": [
    {
     "name": "stdout",
     "output_type": "stream",
     "text": [
      "Agent Accuracy: 59.38%\n"
     ]
    }
   ],
   "source": [
    "correct = 0\n",
    "for i in range(len(states)):\n",
    "    state = states[i]\n",
    "    action = np.argmax(Q_table.sum(axis=0))  # Best learned action\n",
    "    correct += int(action == actions[i])\n",
    "\n",
    "accuracy = (correct / len(states)) * 100\n",
    "print(f\"Agent Accuracy: {accuracy:.2f}%\")\n"
   ]
  }
 ],
 "metadata": {
  "kernelspec": {
   "display_name": "Python 3",
   "language": "python",
   "name": "python3"
  },
  "language_info": {
   "codemirror_mode": {
    "name": "ipython",
    "version": 3
   },
   "file_extension": ".py",
   "mimetype": "text/x-python",
   "name": "python",
   "nbconvert_exporter": "python",
   "pygments_lexer": "ipython3",
   "version": "3.12.8"
  }
 },
 "nbformat": 4,
 "nbformat_minor": 2
}
